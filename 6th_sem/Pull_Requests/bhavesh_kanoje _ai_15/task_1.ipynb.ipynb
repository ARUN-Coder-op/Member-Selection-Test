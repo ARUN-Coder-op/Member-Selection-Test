{
 "cells": [
  {
   "cell_type": "code",
   "execution_count": 1,
   "metadata": {},
   "outputs": [],
   "source": [
    "from collections import deque\n",
    "\n",
    "def find_cheapest_routes(n, m, k, flights):\n",
    "    graph = [[] for _ in range(n)]\n",
    "    for a, b, c in flights:\n",
    "        graph[a-1].append((b-1, c))\n",
    "\n",
    "    # BFS to find the k shortest paths\n",
    "    shortest_paths = []\n",
    "    queue = deque([(0, [0])])  # (cost, path)\n",
    "    while queue and len(shortest_paths) < k:\n",
    "        current_cost, current_path = queue.popleft()\n",
    "        current_city = current_path[-1]\n",
    "        if current_city == n - 1:\n",
    "            shortest_paths.append(current_path)\n",
    "            continue\n",
    "        for neighbor, neighbor_cost in graph[current_city]:\n",
    "            new_cost = current_cost + neighbor_cost\n",
    "            new_path = current_path + [neighbor]\n",
    "            queue.append((new_cost, new_path))\n",
    "\n",
    "    return shortest_paths\n"
   ]
  },
  {
   "cell_type": "code",
   "execution_count": 2,
   "metadata": {},
   "outputs": [],
   "source": [
    "# Example input\n",
    "n, m, k = 4, 6, 3\n",
    "flights = [\n",
    "    (1, 3, 3),\n",
    "    (3, 2, 3),\n",
    "    (2, 4, 2),\n",
    "    (2, 3, 1),\n",
    "    (1, 2, 2),\n",
    "    (3, 4, 2)\n",
    "]\n"
   ]
  },
  {
   "cell_type": "code",
   "execution_count": 3,
   "metadata": {},
   "outputs": [],
   "source": [
    "# Find and print the k cheapest routes\n",
    "result = find_cheapest_routes(n, m, k, flights)\n"
   ]
  },
  {
   "cell_type": "code",
   "execution_count": 4,
   "metadata": {},
   "outputs": [
    {
     "name": "stdout",
     "output_type": "stream",
     "text": [
      "[5, 6, 8]\n"
     ]
    }
   ],
   "source": [
    "# Calculate total cost for each path\n",
    "total_costs = [sum(flights[node][2] for node in path[:-1]) for path in result]\n",
    "\n",
    "# Print the total costs of the k shortest paths\n",
    "print(total_costs)\n"
   ]
  }
 ],
 "metadata": {
  "kernelspec": {
   "display_name": "Python 3",
   "language": "python",
   "name": "python3"
  },
  "language_info": {
   "codemirror_mode": {
    "name": "ipython",
    "version": 3
   },
   "file_extension": ".py",
   "mimetype": "text/x-python",
   "name": "python",
   "nbconvert_exporter": "python",
   "pygments_lexer": "ipython3",
   "version": "3.12.2"
  }
 },
 "nbformat": 4,
 "nbformat_minor": 2
}
