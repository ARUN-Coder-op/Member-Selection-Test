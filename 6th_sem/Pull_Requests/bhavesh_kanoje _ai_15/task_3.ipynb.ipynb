{
 "cells": [
  {
   "cell_type": "code",
   "execution_count": 11,
   "metadata": {},
   "outputs": [],
   "source": [
    "MOD = 10**9 + 7\n",
    "\n",
    "def count_valid_placements(N, D, connections):\n",
    "    # Initialize dynamic programming array\n",
    "    dp = [[0] * (D + 1) for _ in range(N)]\n",
    "    \n",
    "    # Initialize base cases\n",
    "    dp[0][0] = 1\n",
    "    \n",
    "    # Iterate through planets and universes\n",
    "    for i in range(N):\n",
    "        for j in range(D + 1):\n",
    "            for u, v in connections:\n",
    "                if u == i + 1:\n",
    "                    dp[v - 1][j] = (dp[v - 1][j] + dp[i][j]) % MOD\n",
    "                elif v == i + 1:\n",
    "                    dp[u - 1][j] = (dp[u - 1][j] + dp[i][j]) % MOD\n",
    "            if j < D:\n",
    "                dp[i][j + 1] = (dp[i][j + 1] + dp[i][j]) % MOD\n",
    "    \n",
    "    return dp\n",
    "\n"
   ]
  },
  {
   "cell_type": "code",
   "execution_count": 12,
   "metadata": {},
   "outputs": [
    {
     "name": "stdout",
     "output_type": "stream",
     "text": [
      "4\n"
     ]
    }
   ],
   "source": [
    "def main():\n",
    "    # Initialize variables N and D\n",
    "    N = 3\n",
    "    D = 1\n",
    "    \n",
    "    # Define connections between planets\n",
    "    connections = [(1, 2), (2, 3)]\n",
    "    \n",
    "    # Count the number of valid placements for Captain Ágnes\n",
    "    dp = count_valid_placements(N, D, connections)\n",
    "    \n",
    "    # Calculate the total number of valid placements\n",
    "    total_valid_placements = sum(dp[N - 1]) % MOD\n",
    "    \n",
    "    # Output the result\n",
    "    print(total_valid_placements)\n",
    "\n",
    "if __name__ == \"__main__\":\n",
    "    main()\n"
   ]
  }
 ],
 "metadata": {
  "kernelspec": {
   "display_name": "Python 3",
   "language": "python",
   "name": "python3"
  },
  "language_info": {
   "codemirror_mode": {
    "name": "ipython",
    "version": 3
   },
   "file_extension": ".py",
   "mimetype": "text/x-python",
   "name": "python",
   "nbconvert_exporter": "python",
   "pygments_lexer": "ipython3",
   "version": "3.12.2"
  }
 },
 "nbformat": 4,
 "nbformat_minor": 2
}
