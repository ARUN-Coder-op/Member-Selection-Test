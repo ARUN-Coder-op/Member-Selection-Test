{
 "cells": [
  {
   "cell_type": "markdown",
   "metadata": {},
   "source": [
    "# PROBLEM 1"
   ]
  },
  {
   "cell_type": "markdown",
   "metadata": {},
   "source": [
    "3 -> 10 -> 5 -> 16 -> 8 -> 4 -> 2 -> 1\n",
    "\n",
    "\n",
    "odd no. = 3n+1\n",
    "\n",
    "\n",
    "\n",
    "even no. n/2"
   ]
  },
  {
   "cell_type": "code",
   "execution_count": 17,
   "metadata": {},
   "outputs": [
    {
     "name": "stdout",
     "output_type": "stream",
     "text": [
      "Enter Number = 3\n",
      "3 10 5 16 8 4 2 1 "
     ]
    }
   ],
   "source": [
    "def prb1(n):\n",
    "    if n==1:\n",
    "        print(f\"{n} {4} {2} {1}\")\n",
    "    else:\n",
    "        print(n,end=\" \")\n",
    "        while (n!=1):\n",
    "            if n%2==0:\n",
    "                n/=2\n",
    "                print(int(n),end=\" \")\n",
    "            else:\n",
    "                n=(n*3)+1\n",
    "                print(int(n),end=\" \")\n",
    "n=int(input(\"Enter Number = \"))\n",
    "prb1(n)"
   ]
  },
  {
   "cell_type": "markdown",
   "metadata": {},
   "source": [
    "# PROBLEM 2"
   ]
  },
  {
   "cell_type": "markdown",
   "metadata": {},
   "source": [
    "Your task is to develop an efficient code to print all the sum of all numbers that are multiples of 3 and 5 below a given limit N."
   ]
  },
  {
   "cell_type": "code",
   "execution_count": 5,
   "metadata": {},
   "outputs": [
    {
     "name": "stdout",
     "output_type": "stream",
     "text": [
      "Enter number = 20\n",
      "78\n"
     ]
    }
   ],
   "source": [
    "def prb2(n):\n",
    "    s=0\n",
    "    for i in range(1,n):\n",
    "        if i%3==0 or i%5==0:\n",
    "            s+=i\n",
    "    return s\n",
    "n=int(input(\"Enter number = \"))\n",
    "su=prb2(n)\n",
    "print(su)"
   ]
  },
  {
   "cell_type": "markdown",
   "metadata": {},
   "source": [
    "# PROBLEM 3"
   ]
  },
  {
   "cell_type": "markdown",
   "metadata": {},
   "source": [
    "Movie Festival:  In a movie festival, n \n",
    " movies will be shown. You know the starting and ending time of each movie. What is the maximum number of movies you can watch entirely?"
   ]
  },
  {
   "cell_type": "code",
   "execution_count": 33,
   "metadata": {},
   "outputs": [
    {
     "name": "stdout",
     "output_type": "stream",
     "text": [
      "Enter the number of movies: 3\n",
      "Enter the starting and ending times of movie 1: 4 5\n",
      "Enter the starting and ending times of movie 2: 4 6\n",
      "Enter the starting and ending times of movie 3: 5 3\n",
      "Maximum number of movies: 2\n"
     ]
    }
   ],
   "source": [
    "def max_mov(n, movies):\n",
    "    movies.sort(key=lambda x: x[1])\n",
    "    \n",
    "\n",
    "    count = 0\n",
    "    end_time = 0\n",
    "    \n",
    "  \n",
    "    for start, end in movies:\n",
    "        \n",
    "        if start >= end_time:\n",
    "            count += 1\n",
    "            end_time = end\n",
    "    \n",
    "    return count\n",
    "\n",
    "\n",
    "n = int(input(\"Enter the number of movies: \"))\n",
    "movies = []\n",
    "for _ in range(n):\n",
    "    a, b = map(int, input(\"Enter the starting and ending times of movie {}: \".format(_+1)).split())\n",
    "    movies.append((a, b))\n",
    "\n",
    "print(\"Maximum number of movies:\", max_mov(n, movies))\n"
   ]
  }
 ],
 "metadata": {
  "kernelspec": {
   "display_name": "Python 3",
   "language": "python",
   "name": "python3"
  },
  "language_info": {
   "codemirror_mode": {
    "name": "ipython",
    "version": 3
   },
   "file_extension": ".py",
   "mimetype": "text/x-python",
   "name": "python",
   "nbconvert_exporter": "python",
   "pygments_lexer": "ipython3",
   "version": "3.9.1"
  }
 },
 "nbformat": 4,
 "nbformat_minor": 4
}
